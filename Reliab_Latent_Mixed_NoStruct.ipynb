{
 "cells": [
  {
   "cell_type": "code",
   "execution_count": 36,
   "metadata": {},
   "outputs": [],
   "source": [
    "import pandas as pd\n",
    "import biogeme.biogeme as bio\n",
    "from biogeme import models\n",
    "from biogeme.expressions import Beta, Variable, log, exp, bioDraws, bioMultSum, MonteCarlo, bioNormalCdf, Elem, RandomVariable, Integrate, PanelLikelihoodTrajectory, Derive\n",
    "import biogeme.database as db\n",
    "import numpy as np\n",
    "import biogeme.distributions as dist\n",
    "import biogeme.exceptions as excep\n",
    "import biogeme.results as res\n",
    "import biogeme.loglikelihood as ll\n",
    "from biogeme.results import bioResults"
   ]
  },
  {
   "cell_type": "code",
   "execution_count": 37,
   "metadata": {},
   "outputs": [],
   "source": [
    "df = pd.read_csv('biogeme_data.csv')"
   ]
  },
  {
   "cell_type": "code",
   "execution_count": 38,
   "metadata": {},
   "outputs": [],
   "source": [
    "df['lowtreat'] = df['treatment'].replace({0: 1, 1: 0, 2: 0})\n",
    "df['hightreat'] = df['treatment'].replace({0: 0, 1: 0, 2: 1})"
   ]
  },
  {
   "cell_type": "code",
   "execution_count": 39,
   "metadata": {},
   "outputs": [],
   "source": [
    "df['notcar'] = df['vehclass'].replace({1:0, 2:1, 3:1, 4:1, 5:1})\n",
    "df['CR_less0'] = np.where(df['cr_fs'] < 0, 1, 0)\n",
    "df['age_51p'] = np.where(df['age'] >= 50, 1, 0)\n",
    "df['female'] = np.where(df['gender'] == 2, 1, 0)\n",
    "df['children'] = np.where(df['children'] > 0, 1, 0)\n",
    "df['worker'] = np.where((df['employment'] == 2) | (df['employment'] == 3), 1, 0)\n",
    "df['white'] = np.where(df['race'] == 'White', 1, 0)\n",
    "df['chargavail_fraction'] = df['ev_chargavail'] / 100"
   ]
  },
  {
   "cell_type": "code",
   "execution_count": 41,
   "metadata": {},
   "outputs": [],
   "source": [
    "df = df.drop('race', axis=1)"
   ]
  },
  {
   "cell_type": "code",
   "execution_count": 42,
   "metadata": {},
   "outputs": [],
   "source": [
    "database = db.Database('df', df)\n",
    "# mixed logit model\n",
    "# database.panel('resp_index')\n",
    "globals().update(database.variables)"
   ]
  },
  {
   "cell_type": "code",
   "execution_count": 9,
   "metadata": {},
   "outputs": [
    {
     "ename": "FileNotFoundError",
     "evalue": "File PR_StructuralModel.pickle not found",
     "output_type": "error",
     "traceback": [
      "\u001b[1;31m---------------------------------------------------------------------------\u001b[0m",
      "\u001b[1;31mFileNotFoundError\u001b[0m                         Traceback (most recent call last)",
      "File \u001b[1;32m~\\AppData\\Local\\Packages\\PythonSoftwareFoundation.Python.3.11_qbz5n2kfra8p0\\LocalCache\\local-packages\\Python311\\site-packages\\biogeme\\results.py:350\u001b[0m, in \u001b[0;36mbioResults.__init__\u001b[1;34m(self, theRawResults, pickleFile, identification_threshold)\u001b[0m\n\u001b[0;32m    349\u001b[0m \u001b[38;5;28;01mtry\u001b[39;00m:\n\u001b[1;32m--> 350\u001b[0m     \u001b[38;5;28;01mwith\u001b[39;00m \u001b[38;5;28;43mopen\u001b[39;49m\u001b[43m(\u001b[49m\u001b[43mpickleFile\u001b[49m\u001b[43m,\u001b[49m\u001b[43m \u001b[49m\u001b[38;5;124;43m'\u001b[39;49m\u001b[38;5;124;43mrb\u001b[39;49m\u001b[38;5;124;43m'\u001b[39;49m\u001b[43m)\u001b[49m \u001b[38;5;28;01mas\u001b[39;00m f:\n\u001b[0;32m    351\u001b[0m         \u001b[38;5;28mself\u001b[39m\u001b[38;5;241m.\u001b[39mdata \u001b[38;5;241m=\u001b[39m pickle\u001b[38;5;241m.\u001b[39mload(f)\n",
      "\u001b[1;31mFileNotFoundError\u001b[0m: [Errno 2] No such file or directory: 'PR_StructuralModel.pickle'",
      "\nThe above exception was the direct cause of the following exception:\n",
      "\u001b[1;31mFileNotFoundError\u001b[0m                         Traceback (most recent call last)",
      "Cell \u001b[1;32mIn[9], line 2\u001b[0m\n\u001b[0;32m      1\u001b[0m MODELNAME \u001b[38;5;241m=\u001b[39m \u001b[38;5;124m'\u001b[39m\u001b[38;5;124mPR_StructuralModel\u001b[39m\u001b[38;5;124m'\u001b[39m\n\u001b[1;32m----> 2\u001b[0m struct_results \u001b[38;5;241m=\u001b[39m \u001b[43mres\u001b[49m\u001b[38;5;241;43m.\u001b[39;49m\u001b[43mbioResults\u001b[49m\u001b[43m(\u001b[49m\u001b[43mpickleFile\u001b[49m\u001b[38;5;241;43m=\u001b[39;49m\u001b[38;5;124;43mf\u001b[39;49m\u001b[38;5;124;43m'\u001b[39;49m\u001b[38;5;132;43;01m{\u001b[39;49;00m\u001b[43mMODELNAME\u001b[49m\u001b[38;5;132;43;01m}\u001b[39;49;00m\u001b[38;5;124;43m.pickle\u001b[39;49m\u001b[38;5;124;43m'\u001b[39;49m\u001b[43m)\u001b[49m\n\u001b[0;32m      3\u001b[0m reliab_betas \u001b[38;5;241m=\u001b[39m struct_results\u001b[38;5;241m.\u001b[39mgetBetaValues()\n",
      "File \u001b[1;32m~\\AppData\\Local\\Packages\\PythonSoftwareFoundation.Python.3.11_qbz5n2kfra8p0\\LocalCache\\local-packages\\Python311\\site-packages\\biogeme\\results.py:354\u001b[0m, in \u001b[0;36mbioResults.__init__\u001b[1;34m(self, theRawResults, pickleFile, identification_threshold)\u001b[0m\n\u001b[0;32m    352\u001b[0m     \u001b[38;5;28;01mexcept\u001b[39;00m \u001b[38;5;167;01mFileNotFoundError\u001b[39;00m \u001b[38;5;28;01mas\u001b[39;00m e:\n\u001b[0;32m    353\u001b[0m         error_msg \u001b[38;5;241m=\u001b[39m \u001b[38;5;124mf\u001b[39m\u001b[38;5;124m'\u001b[39m\u001b[38;5;124mFile \u001b[39m\u001b[38;5;132;01m{\u001b[39;00mpickleFile\u001b[38;5;132;01m}\u001b[39;00m\u001b[38;5;124m not found\u001b[39m\u001b[38;5;124m'\u001b[39m\n\u001b[1;32m--> 354\u001b[0m         \u001b[38;5;28;01mraise\u001b[39;00m excep\u001b[38;5;241m.\u001b[39mFileNotFoundError(error_msg) \u001b[38;5;28;01mfrom\u001b[39;00m \u001b[38;5;21;01me\u001b[39;00m\n\u001b[0;32m    356\u001b[0m \u001b[38;5;28;01melse\u001b[39;00m:\n\u001b[0;32m    357\u001b[0m     \u001b[38;5;28;01mraise\u001b[39;00m excep\u001b[38;5;241m.\u001b[39mBiogemeError(\u001b[38;5;124m'\u001b[39m\u001b[38;5;124mNo data provided.\u001b[39m\u001b[38;5;124m'\u001b[39m)\n",
      "\u001b[1;31mFileNotFoundError\u001b[0m: File PR_StructuralModel.pickle not found"
     ]
    }
   ],
   "source": [
    "# MODELNAME = 'PR_StructuralModel'\n",
    "# struct_results = res.bioResults(pickleFile=f'{MODELNAME}.pickle')\n",
    "# reliab_betas = struct_results.getBetaValues()"
   ]
  },
  {
   "cell_type": "code",
   "execution_count": 43,
   "metadata": {},
   "outputs": [],
   "source": [
    "PR_intercept = Beta('PR_Intercept', 0.062, None, None, 0)\n",
    "PR_lowtreat = Beta('PR_lowtreat', -0.758, None, None, 0)\n",
    "PR_hightreat = Beta('PR_hightreat', 0.573, None, None, 0)\n",
    "\n",
    "# PR_intercept = Beta('PR_Intercept', 0, None, None, 0)\n",
    "# PR_lowtreat = Beta('PR_lowtreat', -0, None, None, 0)\n",
    "# PR_hightreat = Beta('PR_hightreat', 0, None, None, 0)"
   ]
  },
  {
   "cell_type": "code",
   "execution_count": 44,
   "metadata": {},
   "outputs": [],
   "source": [
    "sigma_s = Beta('sigma_s', 0.1, None, None, 0)\n",
    "ec = sigma_s * bioDraws('ec', 'NORMAL')\n",
    "\n",
    "omega = RandomVariable('omega')\n",
    "density = dist.normalpdf(omega)"
   ]
  },
  {
   "cell_type": "code",
   "execution_count": 45,
   "metadata": {},
   "outputs": [],
   "source": [
    "PR = (\n",
    "    PR_intercept\n",
    "    + PR_hightreat*hightreat\n",
    "    + PR_lowtreat*lowtreat\n",
    "    + ec\n",
    "    # + sigma_s * omega\n",
    ")"
   ]
  },
  {
   "cell_type": "code",
   "execution_count": 46,
   "metadata": {},
   "outputs": [],
   "source": [
    "# INTER_Reliab01 = Beta('INTER_Reliab01', 0, None, None, 0)\n",
    "INTER_Reliab02 = Beta('INTER_Reliab02', 0, None, None, 1)\n",
    "INTER_Reliab03 = Beta('INTER_Reliab03', -0.040, None, None, 0)\n",
    "INTER_Reliab04 = Beta('INTER_Reliab04', -0.130, None, None, 0)\n",
    "INTER_Reliab05 = Beta('INTER_Reliab05', -0.356, None, None, 0)"
   ]
  },
  {
   "cell_type": "code",
   "execution_count": 47,
   "metadata": {},
   "outputs": [],
   "source": [
    "# B_Reliab01_F1 = Beta('B_Reliab01_F1', 1, None, None, 0)\n",
    "B_Reliab02_F1 = Beta('B_Reliab02_F1', 1, None, None, 1)\n",
    "B_Reliab03_F1 = Beta('B_Reliab03_F1', 1.010, None, None, 0)\n",
    "B_Reliab04_F1 = Beta('B_Reliab04_F1',0.959, None, None, 0)\n",
    "B_Reliab05_F1 = Beta('B_Reliab05_F1', 1.030, None, None, 0)"
   ]
  },
  {
   "cell_type": "code",
   "execution_count": 48,
   "metadata": {},
   "outputs": [],
   "source": [
    "# MODEL_Reliab01 = INTER_Reliab01 + B_Reliab01_F1 * PR\n",
    "MODEL_Reliab02 = INTER_Reliab02 + B_Reliab02_F1 * PR\n",
    "MODEL_Reliab03 = INTER_Reliab03 + B_Reliab03_F1 * PR\n",
    "MODEL_Reliab04 = INTER_Reliab04 + B_Reliab04_F1 * PR\n",
    "MODEL_Reliab05 = INTER_Reliab05 + B_Reliab05_F1 * PR"
   ]
  },
  {
   "cell_type": "code",
   "execution_count": 49,
   "metadata": {},
   "outputs": [],
   "source": [
    "SIGMA_STAR_Reliab01 = Beta('SIGMA_STAR_Reliab01', 1, 1.0e-5, None, 1)\n",
    "SIGMA_STAR_Reliab02 = Beta('SIGMA_STAR_Reliab02', 1, 1.0e-5, None, 1)\n",
    "SIGMA_STAR_Reliab03 = Beta('SIGMA_STAR_Reliab03', 0.867, 1.0e-5, None, 0)\n",
    "SIGMA_STAR_Reliab04 = Beta('SIGMA_STAR_Reliab04', 0.744, 1.0e-5, None, 0)\n",
    "SIGMA_STAR_Reliab05 = Beta('SIGMA_STAR_Reliab05', 1.100, 1.0e-5, None, 0)"
   ]
  },
  {
   "cell_type": "code",
   "execution_count": 50,
   "metadata": {},
   "outputs": [],
   "source": [
    "delta_1 = Beta('delta_1',1.350,0,10,0)\n",
    "delta_2 = Beta('delta_2',1.230,0,10,0)\n",
    "tau_1 = -delta_1 - delta_2\n",
    "tau_2 = -delta_1 \n",
    "tau_3 = 0\n",
    "tau_4 = delta_1\n",
    "tau_5 = delta_1 + delta_2"
   ]
  },
  {
   "cell_type": "code",
   "execution_count": 51,
   "metadata": {},
   "outputs": [],
   "source": [
    "Reliab02_tau_1 = (tau_1-MODEL_Reliab02) / SIGMA_STAR_Reliab02\n",
    "Reliab02_tau_2 = (tau_2-MODEL_Reliab02) / SIGMA_STAR_Reliab02\n",
    "Reliab02_tau_3 = (tau_3-MODEL_Reliab02) / SIGMA_STAR_Reliab02\n",
    "Reliab02_tau_4 = (tau_4-MODEL_Reliab02) / SIGMA_STAR_Reliab02\n",
    "Reliab02_tau_5 = (tau_5-MODEL_Reliab02) / SIGMA_STAR_Reliab02\n",
    "\n",
    "Reliab03_tau_1 = (tau_1-MODEL_Reliab03) / SIGMA_STAR_Reliab03\n",
    "Reliab03_tau_2 = (tau_2-MODEL_Reliab03) / SIGMA_STAR_Reliab03\n",
    "Reliab03_tau_3 = (tau_3-MODEL_Reliab03) / SIGMA_STAR_Reliab03\n",
    "Reliab03_tau_4 = (tau_4-MODEL_Reliab03) / SIGMA_STAR_Reliab03\n",
    "Reliab03_tau_5 = (tau_5-MODEL_Reliab03) / SIGMA_STAR_Reliab03\n",
    "\n",
    "Reliab04_tau_1 = (tau_1-MODEL_Reliab04) / SIGMA_STAR_Reliab04\n",
    "Reliab04_tau_2 = (tau_2-MODEL_Reliab04) / SIGMA_STAR_Reliab04\n",
    "Reliab04_tau_3 = (tau_3-MODEL_Reliab04) / SIGMA_STAR_Reliab04\n",
    "Reliab04_tau_4 = (tau_4-MODEL_Reliab04) / SIGMA_STAR_Reliab04\n",
    "Reliab04_tau_5 = (tau_5-MODEL_Reliab04) / SIGMA_STAR_Reliab04\n",
    "\n",
    "Reliab05_tau_1 = (tau_1-MODEL_Reliab05) / SIGMA_STAR_Reliab05\n",
    "Reliab05_tau_2 = (tau_2-MODEL_Reliab05) / SIGMA_STAR_Reliab05\n",
    "Reliab05_tau_3 = (tau_3-MODEL_Reliab05) / SIGMA_STAR_Reliab05\n",
    "Reliab05_tau_4 = (tau_4-MODEL_Reliab05) / SIGMA_STAR_Reliab05\n",
    "Reliab05_tau_5 = (tau_5-MODEL_Reliab05) / SIGMA_STAR_Reliab05\n",
    "\n",
    "IndReliab02 = {\n",
    "    1: bioNormalCdf(Reliab02_tau_1),\n",
    "    2: bioNormalCdf(Reliab02_tau_2)-bioNormalCdf(Reliab02_tau_1),\n",
    "    3: bioNormalCdf(Reliab02_tau_3)-bioNormalCdf(Reliab02_tau_2),\n",
    "    4: bioNormalCdf(Reliab02_tau_4)-bioNormalCdf(Reliab02_tau_3),\n",
    "    5: bioNormalCdf(Reliab02_tau_5)-bioNormalCdf(Reliab02_tau_4),\n",
    "    6: 1-bioNormalCdf(Reliab02_tau_5),\n",
    "    9999: 1.0\n",
    "}\n",
    "\n",
    "P_Reliab02 = Elem(IndReliab02, reliab_2)\n",
    "\n",
    "IndReliab03 = {\n",
    "    1: bioNormalCdf(Reliab03_tau_1),\n",
    "    2: bioNormalCdf(Reliab03_tau_2)-bioNormalCdf(Reliab03_tau_1),\n",
    "    3: bioNormalCdf(Reliab03_tau_3)-bioNormalCdf(Reliab03_tau_2),\n",
    "    4: bioNormalCdf(Reliab03_tau_4)-bioNormalCdf(Reliab03_tau_3),\n",
    "    5: bioNormalCdf(Reliab03_tau_5)-bioNormalCdf(Reliab03_tau_4),\n",
    "    6: 1-bioNormalCdf(Reliab03_tau_5),\n",
    "    9999: 1.0\n",
    "}\n",
    "\n",
    "P_Reliab03 = Elem(IndReliab03, reliab_3)\n",
    "\n",
    "IndReliab04 = {\n",
    "    1: bioNormalCdf(Reliab04_tau_1),\n",
    "    2: bioNormalCdf(Reliab04_tau_2)-bioNormalCdf(Reliab04_tau_1),\n",
    "    3: bioNormalCdf(Reliab04_tau_3)-bioNormalCdf(Reliab04_tau_2),\n",
    "    4: bioNormalCdf(Reliab04_tau_4)-bioNormalCdf(Reliab04_tau_3),\n",
    "    5: bioNormalCdf(Reliab04_tau_5)-bioNormalCdf(Reliab04_tau_4),\n",
    "    6: 1-bioNormalCdf(Reliab04_tau_5),\n",
    "    9999: 1.0\n",
    "}\n",
    "\n",
    "P_Reliab04 = Elem(IndReliab04, reliab_4)\n",
    "\n",
    "IndReliab05 = {\n",
    "    1: bioNormalCdf(Reliab05_tau_1),\n",
    "    2: bioNormalCdf(Reliab05_tau_2)-bioNormalCdf(Reliab05_tau_1),\n",
    "    3: bioNormalCdf(Reliab05_tau_3)-bioNormalCdf(Reliab05_tau_2),\n",
    "    4: bioNormalCdf(Reliab05_tau_4)-bioNormalCdf(Reliab05_tau_3),\n",
    "    5: bioNormalCdf(Reliab05_tau_5)-bioNormalCdf(Reliab05_tau_4),\n",
    "    6: 1-bioNormalCdf(Reliab05_tau_5),\n",
    "    9999: 1.0\n",
    "}\n",
    "\n",
    "P_Reliab05 = Elem(IndReliab05, reliab_5)"
   ]
  },
  {
   "cell_type": "code",
   "execution_count": 52,
   "metadata": {},
   "outputs": [],
   "source": [
    "# ASC_EV_1_HOMECHARGE = Beta('ASC_EV_1_HOMECHARGE', reliab_betas['ASC_EV_1'], None, None, 0)\n",
    "# ASC_EV_1_NOHOMECHARGE = Beta('ASC_EV_1_NOHOMECHARGE', reliab_betas['ASC_EV_1'], None, None, 0)\n",
    "ASC_EV_1 = Beta('ASC_EV_1', -3.031209, None, None, 0)\n",
    "ASC_EV_1_NoHome = Beta('ASC_EV_1_NoHome', -0.276, None, None, 0)\n",
    "B_PRICE_EV_1 = Beta('B_PRICE_EV_1', -2.640, None, None, 0)\n",
    "B_PRICE_CONV_1 = Beta('B_PRICE_CONV_1', -2.380, None, None, 0)\n",
    "B_OPCOST_EV_1 = Beta('B_OPCOST_EV_1', -0.080, None, None, 0)\n",
    "B_OPCOST_CONV_1 = Beta('B_OPCOST_CONV_1', -0.071, None, None, 0)\n",
    "B_RANGE_EV_1 = Beta('B_RANGE_EV_1', 0.17, None, None, 0)\n",
    "B_RANGE_CONV_1 = Beta('B_RANGE_CONV_1', 0.15, None, None, 0)\n",
    "B_CHARGAVAIL_EV_1_HOME = Beta('B_CHARGAVAIL_EV_1_HOME', 0.443, None, None, 0)\n",
    "B_CHARGAVAIL_EV_1_NOHOME = Beta('B_CHARGAVAIL_EV_1_NOHOME', 0.0225, None, None, 0)\n",
    "B_CHARGAVAIL_EV_1 = Beta('B_CHARGAVAIL_EV_1', 0.2, None, None, 0)\n",
    "B_PR_1_NOHOME = Beta('B_PR_1_NOHOME', 0.307470, None, None, 0)\n",
    "B_PR_1 = Beta('B_PR_1', 0.734057, None, None, 0)\n",
    "\n",
    "ASC_EV_1_S = Beta('ASC_EV_1_S', 0.832111, None, None, 0)\n",
    "ASC_EV_1_RND = ASC_EV_1 + ASC_EV_1_S * bioDraws('ASC_EV_1_RND', 'NORMAL')\n",
    "\n",
    "# B_PR_S = Beta('B_PR_S', 0.1, None, None, 0)\n",
    "# B_PR_1_RND = B_PR_1 + B_PR_S * bioDraws('B_PR_1_RND', 'NORMAL_MLHS')\n",
    "\n",
    "\n"
   ]
  },
  {
   "cell_type": "code",
   "execution_count": 53,
   "metadata": {},
   "outputs": [],
   "source": [
    "V_EV_1 = (\n",
    "    ASC_EV_1 #_RND\n",
    "    + ASC_EV_1_NoHome*(1-homecharge)\n",
    "    + B_PRICE_EV_1* (ev_price/budget)\n",
    "    + B_OPCOST_EV_1*ev_opcost\n",
    "    + B_RANGE_EV_1*(ev_range/100)\n",
    "    + B_CHARGAVAIL_EV_1*chargavail_fraction\n",
    "    + B_CHARGAVAIL_EV_1_NOHOME*chargavail_fraction*(1-homecharge)\n",
    "    + B_PR_1*PR\n",
    "    + B_PR_1_NOHOME*PR*(1-homecharge)\n",
    ")\n",
    "\n",
    "V_CONV_1 = (\n",
    "    B_PRICE_CONV_1* (icev_price/budget)\n",
    "    + B_OPCOST_CONV_1*icev_opcost\n",
    "    + B_RANGE_CONV_1*(icev_range/100)\n",
    ")\n"
   ]
  },
  {
   "cell_type": "code",
   "execution_count": 54,
   "metadata": {},
   "outputs": [],
   "source": [
    "V1 = {1: V_EV_1, 2: V_CONV_1}\n"
   ]
  },
  {
   "cell_type": "code",
   "execution_count": 55,
   "metadata": {},
   "outputs": [],
   "source": [
    "\n",
    "av = {1: ev_av, 2: icev_av}"
   ]
  },
  {
   "cell_type": "code",
   "execution_count": 23,
   "metadata": {},
   "outputs": [
    {
     "ename": "NameError",
     "evalue": "name 'V1' is not defined",
     "output_type": "error",
     "traceback": [
      "\u001b[1;31m---------------------------------------------------------------------------\u001b[0m",
      "\u001b[1;31mNameError\u001b[0m                                 Traceback (most recent call last)",
      "Cell \u001b[1;32mIn[23], line 1\u001b[0m\n\u001b[1;32m----> 1\u001b[0m prob1 \u001b[38;5;241m=\u001b[39m models\u001b[38;5;241m.\u001b[39mlogit(\u001b[43mV1\u001b[49m, av, choice)\n\u001b[0;32m      2\u001b[0m condlike \u001b[38;5;241m=\u001b[39m prob1 \u001b[38;5;241m*\u001b[39m P_Reliab03 \u001b[38;5;241m*\u001b[39m P_Reliab04 \u001b[38;5;241m*\u001b[39m P_Reliab05 \u001b[38;5;241m*\u001b[39m P_Reliab02\n\u001b[0;32m      3\u001b[0m \u001b[38;5;66;03m#condlikeindiv = PanelLikelihoodTrajectory(condlike)\u001b[39;00m\n\u001b[0;32m      4\u001b[0m \u001b[38;5;66;03m# loglike = log(MonteCarlo(condlikeindiv))s\u001b[39;00m\n",
      "\u001b[1;31mNameError\u001b[0m: name 'V1' is not defined"
     ]
    }
   ],
   "source": [
    "prob1 = models.logit(V1, av, choice)\n",
    "condlike = prob1 * P_Reliab03 * P_Reliab04 * P_Reliab05 * P_Reliab02\n",
    "#condlikeindiv = PanelLikelihoodTrajectory(condlike)\n",
    "# loglike = log(MonteCarlo(condlikeindiv))s\n",
    "\n",
    "loglike = log(MonteCarlo(condlike))\n",
    "# loglike = log(Integrate(condlikeindiv * density, 'omega'))\n"
   ]
  },
  {
   "cell_type": "code",
   "execution_count": 26,
   "metadata": {},
   "outputs": [
    {
     "name": "stderr",
     "output_type": "stream",
     "text": [
      "The use of argument numberOfThreads in the constructor of the BIOGEME object is deprecated and will be removed in future versions of Biogeme. Instead, define parameter number_of_threads in section MultiThreading of the .toml parameter file. The default file name is biogeme.toml\n",
      "The use of argument numberOfDraws in the constructor of the BIOGEME object is deprecated and will be removed in future versions of Biogeme. Instead, define parameter number_of_draws in section MonteCarlo of the .toml parameter file. The default file name is biogeme.toml\n"
     ]
    }
   ],
   "source": [
    "the_biogeme = bio.BIOGEME(database, loglike,numberOfDraws = 1000, numberOfThreads = 100, bootstrap = 500)\n",
    "the_biogeme.modelName = 'PR_ICLV_Mixed_MonteCarlo'\n",
    "\n",
    "\n"
   ]
  },
  {
   "cell_type": "code",
   "execution_count": 27,
   "metadata": {},
   "outputs": [
    {
     "name": "stdout",
     "output_type": "stream",
     "text": [
      "                             Value  Rob. Std err  Rob. t-test  Rob. p-value\n",
      "ASC_EV_1                 -1.892825      0.253940    -7.453833  9.059420e-14\n",
      "ASC_EV_1_NoHome          -0.278185      0.093984    -2.959903  3.077360e-03\n",
      "B_CHARGAVAIL_EV_1         1.351769      0.074219    18.213219  0.000000e+00\n",
      "B_CHARGAVAIL_EV_1_NOHOME  0.175561      0.134884     1.301566  1.930648e-01\n",
      "B_OPCOST_CONV_1          -0.070984      0.005704   -12.443567  0.000000e+00\n",
      "B_OPCOST_EV_1            -0.079824      0.005717   -13.961407  0.000000e+00\n",
      "B_PRICE_CONV_1           -2.371916      0.180227   -13.160689  0.000000e+00\n",
      "B_PRICE_EV_1             -2.623049      0.180417   -14.538788  0.000000e+00\n",
      "B_PR_1                    0.431738      0.017636    24.480892  0.000000e+00\n",
      "B_PR_1_NOHOME             0.024996      0.025420     0.983344  3.254381e-01\n",
      "B_RANGE_CONV_1            0.158459      0.024523     6.461568  1.036236e-10\n",
      "B_RANGE_EV_1              0.230119      0.024368     9.443430  0.000000e+00\n",
      "B_Reliab03_F1             1.009743      0.007833   128.905295  0.000000e+00\n",
      "B_Reliab04_F1             0.952864      0.007468   127.594975  0.000000e+00\n",
      "B_Reliab05_F1             1.020615      0.009817   103.969009  0.000000e+00\n",
      "INTER_Reliab03           -0.039003      0.012206    -3.195475  1.396011e-03\n",
      "INTER_Reliab04           -0.129484      0.011917   -10.865685  0.000000e+00\n",
      "INTER_Reliab05           -0.357246      0.017121   -20.865554  0.000000e+00\n",
      "PR_Intercept              0.464257      0.026146    17.756040  0.000000e+00\n",
      "PR_hightreat              1.158075      0.043262    26.768757  0.000000e+00\n",
      "PR_lowtreat              -1.502284      0.048201   -31.166824  0.000000e+00\n",
      "SIGMA_STAR_Reliab03       0.863162      0.025811    33.441601  0.000000e+00\n",
      "SIGMA_STAR_Reliab04       0.763056      0.020593    37.054819  0.000000e+00\n",
      "SIGMA_STAR_Reliab05       1.116543      0.029818    37.445619  0.000000e+00\n",
      "delta_1                   1.371260      0.027094    50.611051  0.000000e+00\n",
      "delta_2                   1.239606      0.026395    46.964502  0.000000e+00\n",
      "sigma_s                   1.678177      0.039445    42.544302  0.000000e+00\n"
     ]
    }
   ],
   "source": [
    "model_results = the_biogeme.estimate(run_bootstrap=False)\n",
    "pandasResults = model_results.getEstimatedParameters()\n",
    "print(pandasResults)"
   ]
  },
  {
   "cell_type": "markdown",
   "metadata": {},
   "source": [
    "Market Shares from Original Data"
   ]
  },
  {
   "cell_type": "code",
   "execution_count": 28,
   "metadata": {},
   "outputs": [
    {
     "ename": "NameError",
     "evalue": "name 'V1' is not defined",
     "output_type": "error",
     "traceback": [
      "\u001b[1;31m---------------------------------------------------------------------------\u001b[0m",
      "\u001b[1;31mNameError\u001b[0m                                 Traceback (most recent call last)",
      "Cell \u001b[1;32mIn[28], line 1\u001b[0m\n\u001b[1;32m----> 1\u001b[0m prob_EV_indiv \u001b[38;5;241m=\u001b[39m MonteCarlo(models\u001b[38;5;241m.\u001b[39mlogit(\u001b[43mV1\u001b[49m, av, \u001b[38;5;241m1\u001b[39m))\n\u001b[0;32m      2\u001b[0m prob_ICEV_indiv \u001b[38;5;241m=\u001b[39m MonteCarlo(models\u001b[38;5;241m.\u001b[39mlogit(V1, av, \u001b[38;5;241m2\u001b[39m))\n\u001b[0;32m      4\u001b[0m simulate \u001b[38;5;241m=\u001b[39m {\n\u001b[0;32m      5\u001b[0m   \u001b[38;5;124m'\u001b[39m\u001b[38;5;124mprob EV\u001b[39m\u001b[38;5;124m'\u001b[39m: prob_EV_indiv,\n\u001b[0;32m      6\u001b[0m   \u001b[38;5;124m'\u001b[39m\u001b[38;5;124mprob ICEV\u001b[39m\u001b[38;5;124m'\u001b[39m: prob_ICEV_indiv\n\u001b[0;32m      7\u001b[0m }\n",
      "\u001b[1;31mNameError\u001b[0m: name 'V1' is not defined"
     ]
    }
   ],
   "source": [
    "\n",
    "prob_EV_indiv = MonteCarlo(models.logit(V1, av, 1))\n",
    "prob_ICEV_indiv = MonteCarlo(models.logit(V1, av, 2))\n",
    "\n",
    "simulate = {\n",
    "  'prob EV': prob_EV_indiv,\n",
    "  'prob ICEV': prob_ICEV_indiv\n",
    "}\n",
    "\n",
    "biogeme = bio.BIOGEME(database, simulate)\n",
    "biogeme.modelName = 'Reliab_Latent_Simple_Simulation'\n",
    "\n",
    "betas = biogeme.freeBetaNames\n",
    "\n",
    "results = res.bioResults(pickleFile = 'PR_ICLV_Mixed_MonteCarlo.pickle')\n",
    "betaValues = results.getBetaValues()\n",
    "\n",
    "simulatedValues = biogeme.simulate(betaValues)\n",
    "simulatedValues.mean()"
   ]
  },
  {
   "cell_type": "code",
   "execution_count": 56,
   "metadata": {},
   "outputs": [],
   "source": [
    "V_EV_1 = (\n",
    "    ASC_EV_1 #_RND\n",
    "    + ASC_EV_1_NoHome*(1-homecharge)\n",
    "    + B_PRICE_EV_1* (ev_price/budget)\n",
    "    + B_OPCOST_EV_1*ev_opcost\n",
    "    + B_RANGE_EV_1*(ev_range/100)\n",
    "    + B_CHARGAVAIL_EV_1*chargavail_fraction\n",
    "    + B_CHARGAVAIL_EV_1_NOHOME*chargavail_fraction*(1-homecharge)\n",
    "    + B_PR_1*(PR-0.960)\n",
    "    + B_PR_1_NOHOME*(PR-0.960)*(1-homecharge)\n",
    ")\n",
    "\n",
    "V_CONV_1 = (\n",
    "    B_PRICE_CONV_1* (icev_price/budget)\n",
    "    + B_OPCOST_CONV_1*icev_opcost\n",
    "    + B_RANGE_CONV_1*(icev_range/100)\n",
    ")\n"
   ]
  },
  {
   "cell_type": "code",
   "execution_count": 57,
   "metadata": {},
   "outputs": [],
   "source": [
    "V1 = {1: V_EV_1, 2: V_CONV_1}"
   ]
  },
  {
   "cell_type": "code",
   "execution_count": 58,
   "metadata": {},
   "outputs": [
    {
     "name": "stderr",
     "output_type": "stream",
     "text": [
      "Parameter B_Reliab03_F1 not present in the model.\n",
      "Parameter B_Reliab04_F1 not present in the model.\n",
      "Parameter B_Reliab05_F1 not present in the model.\n",
      "Parameter INTER_Reliab03 not present in the model.\n",
      "Parameter INTER_Reliab04 not present in the model.\n",
      "Parameter INTER_Reliab05 not present in the model.\n",
      "Parameter SIGMA_STAR_Reliab03 not present in the model.\n",
      "Parameter SIGMA_STAR_Reliab04 not present in the model.\n",
      "Parameter SIGMA_STAR_Reliab05 not present in the model.\n",
      "Parameter delta_1 not present in the model.\n",
      "Parameter delta_2 not present in the model.\n"
     ]
    },
    {
     "data": {
      "text/plain": [
       "prob EV      0.130965\n",
       "prob ICEV    0.869035\n",
       "dtype: float64"
      ]
     },
     "execution_count": 58,
     "metadata": {},
     "output_type": "execute_result"
    }
   ],
   "source": [
    "\n",
    "prob_EV_indiv = MonteCarlo(models.logit(V1, av, 1))\n",
    "prob_ICEV_indiv = MonteCarlo(models.logit(V1, av, 2))\n",
    "\n",
    "simulate = {\n",
    "  'prob EV': prob_EV_indiv,\n",
    "  'prob ICEV': prob_ICEV_indiv\n",
    "}\n",
    "\n",
    "biogeme = bio.BIOGEME(database, simulate)\n",
    "biogeme.modelName = 'Reduced_PR'\n",
    "\n",
    "betas = biogeme.freeBetaNames\n",
    "\n",
    "results = res.bioResults(pickleFile = 'PR_ICLV_Mixed_MonteCarlo.pickle')\n",
    "betaValues = results.getBetaValues()\n",
    "\n",
    "simulatedValues = biogeme.simulate(betaValues)\n",
    "simulatedValues.mean()"
   ]
  },
  {
   "cell_type": "markdown",
   "metadata": {},
   "source": [
    "Market Shares with Weighted Data"
   ]
  },
  {
   "cell_type": "code",
   "execution_count": 31,
   "metadata": {},
   "outputs": [],
   "source": [
    "df3 = pd.read_csv('biogeme_data_weighted.csv')\n",
    "df3 = df3.drop('race', axis=1)\n",
    "df3['chargavail_fraction'] = df3['ev_chargavail'] / 100\n",
    "df3['lowtreat'] = df3['treatment'].replace({0: 1, 1: 0, 2: 0})\n",
    "df3['hightreat'] = df3['treatment'].replace({0: 0, 1: 0, 2: 1})\n",
    "df3['evprice_adj'] = (df3['ev_price'] / df3['budget'])*1.0 #260\n",
    "db3 = db.Database('df3', df3)\n",
    "globals().update(db3.variables)\n",
    "\n",
    "results = res.bioResults(pickleFile = 'PR_ICLV_Mixed_MonteCarlo.pickle')\n",
    "betaValues = results.getBetaValues()"
   ]
  },
  {
   "cell_type": "code",
   "execution_count": 32,
   "metadata": {},
   "outputs": [
    {
     "name": "stderr",
     "output_type": "stream",
     "text": [
      "Parameter B_Reliab03_F1 not present in the model.\n",
      "Parameter B_Reliab04_F1 not present in the model.\n",
      "Parameter B_Reliab05_F1 not present in the model.\n",
      "Parameter INTER_Reliab03 not present in the model.\n",
      "Parameter INTER_Reliab04 not present in the model.\n",
      "Parameter INTER_Reliab05 not present in the model.\n",
      "Parameter SIGMA_STAR_Reliab03 not present in the model.\n",
      "Parameter SIGMA_STAR_Reliab04 not present in the model.\n",
      "Parameter SIGMA_STAR_Reliab05 not present in the model.\n",
      "Parameter delta_1 not present in the model.\n",
      "Parameter delta_2 not present in the model.\n"
     ]
    },
    {
     "data": {
      "text/plain": [
       "prob EV      3.587029e-12\n",
       "prob ICEV    1.000000e+00\n",
       "dtype: float64"
      ]
     },
     "execution_count": 32,
     "metadata": {},
     "output_type": "execute_result"
    }
   ],
   "source": [
    "V_EV_SIM_2 = (\n",
    "     ASC_EV_1\n",
    "    + ASC_EV_1_NoHome*(1-homecharge)\n",
    "    + B_PRICE_EV_1* (ev_price/budget)\n",
    "    + B_OPCOST_EV_1*ev_opcost\n",
    "    + B_RANGE_EV_1*(ev_range/100)\n",
    "    + B_CHARGAVAIL_EV_1*chargavail_fraction\n",
    "    + B_CHARGAVAIL_EV_1_NOHOME*chargavail_fraction*(1-homecharge)\n",
    "    + B_PR_1*(PR)\n",
    "    + B_PR_1_NOHOME*(PR)*(1-homecharge)\n",
    ")\n",
    "\n",
    "V_CONV_SIM_2 = (\n",
    "    B_PRICE_CONV_1* (icev_price/budget)\n",
    "    + B_OPCOST_CONV_1*icev_opcost\n",
    "    + B_RANGE_CONV_1*icev_range\n",
    ")\n",
    "\n",
    "VSIM_2 = {1: V_EV_SIM_2, 2: V_CONV_SIM_2}\n",
    "\n",
    "prob_EV_sim = MonteCarlo(models.logit(VSIM_2, av, 1))\n",
    "prob_ICEV_sim = MonteCarlo(models.logit(VSIM_2, av, 2))\n",
    "\n",
    "\n",
    "simulate3 = {\n",
    "    'prob EV': prob_EV_sim,\n",
    "    'prob ICEV': prob_ICEV_sim\n",
    "}\n",
    "\n",
    "biosim = bio.BIOGEME(db3, simulate3)\n",
    "biosim.modelName = 'NewSim'\n",
    "\n",
    "simResults = biosim.simulate(results.getBetaValues())\n",
    "simResults.mean()"
   ]
  },
  {
   "cell_type": "code",
   "execution_count": null,
   "metadata": {},
   "outputs": [],
   "source": []
  }
 ],
 "metadata": {
  "kernelspec": {
   "display_name": "Python 3",
   "language": "python",
   "name": "python3"
  },
  "language_info": {
   "codemirror_mode": {
    "name": "ipython",
    "version": 3
   },
   "file_extension": ".py",
   "mimetype": "text/x-python",
   "name": "python",
   "nbconvert_exporter": "python",
   "pygments_lexer": "ipython3",
   "version": "3.11.9"
  },
  "vscode": {
   "interpreter": {
    "hash": "31f2aee4e71d21fbe5cf8b01ff0e069b9275f58929596ceb00d14d90e3e16cd6"
   }
  }
 },
 "nbformat": 4,
 "nbformat_minor": 2
}
