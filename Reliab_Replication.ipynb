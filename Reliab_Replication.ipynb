{
 "cells": [
  {
   "cell_type": "code",
   "execution_count": null,
   "metadata": {},
   "outputs": [],
   "source": [
    "import pandas as pd\n",
    "import biogeme.biogeme as bio\n",
    "from biogeme import models\n",
    "from biogeme.expressions import Beta, Variable, log, exp, bioDraws, bioMultSum, MonteCarlo, bioNormalCdf, Elem, RandomVariable, Integrate, PanelLikelihoodTrajectory, Derive\n",
    "import biogeme.database as db\n",
    "import numpy as np\n",
    "import biogeme.distributions as dist\n",
    "import biogeme.exceptions as excep\n",
    "import biogeme.results as res\n",
    "import biogeme.loglikelihood as ll\n",
    "from biogeme.results import bioResults"
   ]
  },
  {
   "cell_type": "code",
   "execution_count": null,
   "metadata": {},
   "outputs": [],
   "source": [
    "df = pd.read_csv('biogeme_data.csv')"
   ]
  },
  {
   "cell_type": "code",
   "execution_count": null,
   "metadata": {},
   "outputs": [],
   "source": [
    "df['lowtreat'] = df['treatment'].replace({0: 1, 1: 0, 2: 0})\n",
    "df['hightreat'] = df['treatment'].replace({0: 0, 1: 0, 2: 1})\n",
    "df['chargavail_fraction'] = df['ev_chargavail'] / 100"
   ]
  },
  {
   "cell_type": "code",
   "execution_count": null,
   "metadata": {},
   "outputs": [],
   "source": [
    "df = df.drop('race', axis=1)"
   ]
  },
  {
   "cell_type": "code",
   "execution_count": null,
   "metadata": {},
   "outputs": [],
   "source": [
    "database = db.Database('df', df)\n",
    "\n",
    "# mixed logit model, panel data\n",
    "database.panel('resp_index')\n",
    "globals().update(database.variables)"
   ]
  },
  {
   "cell_type": "code",
   "execution_count": null,
   "metadata": {},
   "outputs": [],
   "source": [
    "# coefficients to be estimated for structural model\n",
    "PR_intercept = Beta('PR_Intercept', 0, None, None, 0)\n",
    "PR_lowtreat = Beta('PR_lowtreat', -0, None, None, 0)\n",
    "PR_hightreat = Beta('PR_hightreat', 0, None, None, 0)"
   ]
  },
  {
   "cell_type": "code",
   "execution_count": null,
   "metadata": {},
   "outputs": [],
   "source": [
    "# error component for structural model\n",
    "sigma_s = Beta('sigma_s', 0.1, None, None, 0)\n",
    "ec = sigma_s * bioDraws('ec', 'NORMAL')"
   ]
  },
  {
   "cell_type": "code",
   "execution_count": null,
   "metadata": {},
   "outputs": [],
   "source": [
    "# define the structural model\n",
    "PR = (\n",
    "    PR_intercept\n",
    "    + PR_hightreat*hightreat\n",
    "    + PR_lowtreat*lowtreat\n",
    "    + ec\n",
    ")"
   ]
  },
  {
   "cell_type": "code",
   "execution_count": null,
   "metadata": {},
   "outputs": [],
   "source": [
    "# measurement model\n",
    "\n",
    "# initialize the coefficients to be estimated\n",
    "INTER_Reliab02 = Beta('INTER_Reliab02', 0, None, None, 1)\n",
    "INTER_Reliab03 = Beta('INTER_Reliab03', -0.5, None, None, 0)\n",
    "INTER_Reliab04 = Beta('INTER_Reliab04', -0.5, None, None, 0)\n",
    "INTER_Reliab05 = Beta('INTER_Reliab05', -0.5, None, None, 0)\n",
    "\n",
    "B_Reliab02_F1 = Beta('B_Reliab02_F1', 1, None, None, 1)\n",
    "B_Reliab03_F1 = Beta('B_Reliab03_F1', 1, None, None, 0)\n",
    "B_Reliab04_F1 = Beta('B_Reliab04_F1',1, None, None, 0)\n",
    "B_Reliab05_F1 = Beta('B_Reliab05_F1', 1, None, None, 0)\n",
    "\n",
    "MODEL_Reliab02 = INTER_Reliab02 + B_Reliab02_F1 * PR\n",
    "MODEL_Reliab03 = INTER_Reliab03 + B_Reliab03_F1 * PR\n",
    "MODEL_Reliab04 = INTER_Reliab04 + B_Reliab04_F1 * PR\n",
    "MODEL_Reliab05 = INTER_Reliab05 + B_Reliab05_F1 * PR\n",
    "\n",
    "SIGMA_STAR_Reliab01 = Beta('SIGMA_STAR_Reliab01', 1, 1.0e-5, None, 1)\n",
    "SIGMA_STAR_Reliab02 = Beta('SIGMA_STAR_Reliab02', 1, 1.0e-5, None, 1)\n",
    "SIGMA_STAR_Reliab03 = Beta('SIGMA_STAR_Reliab03', 1, 1.0e-5, None, 0)\n",
    "SIGMA_STAR_Reliab04 = Beta('SIGMA_STAR_Reliab04', 1, 1.0e-5, None, 0)\n",
    "SIGMA_STAR_Reliab05 = Beta('SIGMA_STAR_Reliab05', 1, 1.0e-5, None, 0)\n",
    "\n",
    "delta_1 = Beta('delta_1',1.5,0,10,0)\n",
    "delta_2 = Beta('delta_2',1.5,0,10,0)\n",
    "tau_1 = -delta_1 - delta_2\n",
    "tau_2 = -delta_1 \n",
    "tau_3 = 0\n",
    "tau_4 = delta_1\n",
    "tau_5 = delta_1 + delta_2\n",
    "\n",
    "# define the indicator thresholds\n",
    "Reliab02_tau_1 = (tau_1-MODEL_Reliab02) / SIGMA_STAR_Reliab02\n",
    "Reliab02_tau_2 = (tau_2-MODEL_Reliab02) / SIGMA_STAR_Reliab02\n",
    "Reliab02_tau_3 = (tau_3-MODEL_Reliab02) / SIGMA_STAR_Reliab02\n",
    "Reliab02_tau_4 = (tau_4-MODEL_Reliab02) / SIGMA_STAR_Reliab02\n",
    "Reliab02_tau_5 = (tau_5-MODEL_Reliab02) / SIGMA_STAR_Reliab02\n",
    "\n",
    "Reliab03_tau_1 = (tau_1-MODEL_Reliab03) / SIGMA_STAR_Reliab03\n",
    "Reliab03_tau_2 = (tau_2-MODEL_Reliab03) / SIGMA_STAR_Reliab03\n",
    "Reliab03_tau_3 = (tau_3-MODEL_Reliab03) / SIGMA_STAR_Reliab03\n",
    "Reliab03_tau_4 = (tau_4-MODEL_Reliab03) / SIGMA_STAR_Reliab03\n",
    "Reliab03_tau_5 = (tau_5-MODEL_Reliab03) / SIGMA_STAR_Reliab03\n",
    "\n",
    "Reliab04_tau_1 = (tau_1-MODEL_Reliab04) / SIGMA_STAR_Reliab04\n",
    "Reliab04_tau_2 = (tau_2-MODEL_Reliab04) / SIGMA_STAR_Reliab04\n",
    "Reliab04_tau_3 = (tau_3-MODEL_Reliab04) / SIGMA_STAR_Reliab04\n",
    "Reliab04_tau_4 = (tau_4-MODEL_Reliab04) / SIGMA_STAR_Reliab04\n",
    "Reliab04_tau_5 = (tau_5-MODEL_Reliab04) / SIGMA_STAR_Reliab04\n",
    "\n",
    "Reliab05_tau_1 = (tau_1-MODEL_Reliab05) / SIGMA_STAR_Reliab05\n",
    "Reliab05_tau_2 = (tau_2-MODEL_Reliab05) / SIGMA_STAR_Reliab05\n",
    "Reliab05_tau_3 = (tau_3-MODEL_Reliab05) / SIGMA_STAR_Reliab05\n",
    "Reliab05_tau_4 = (tau_4-MODEL_Reliab05) / SIGMA_STAR_Reliab05\n",
    "Reliab05_tau_5 = (tau_5-MODEL_Reliab05) / SIGMA_STAR_Reliab05\n",
    "\n",
    "# probit models for indicators\n",
    "IndReliab02 = {\n",
    "    1: bioNormalCdf(Reliab02_tau_1),\n",
    "    2: bioNormalCdf(Reliab02_tau_2)-bioNormalCdf(Reliab02_tau_1),\n",
    "    3: bioNormalCdf(Reliab02_tau_3)-bioNormalCdf(Reliab02_tau_2),\n",
    "    4: bioNormalCdf(Reliab02_tau_4)-bioNormalCdf(Reliab02_tau_3),\n",
    "    5: bioNormalCdf(Reliab02_tau_5)-bioNormalCdf(Reliab02_tau_4),\n",
    "    6: 1-bioNormalCdf(Reliab02_tau_5),\n",
    "    9999: 1.0\n",
    "}\n",
    "\n",
    "P_Reliab02 = Elem(IndReliab02, reliab_2)\n",
    "\n",
    "IndReliab03 = {\n",
    "    1: bioNormalCdf(Reliab03_tau_1),\n",
    "    2: bioNormalCdf(Reliab03_tau_2)-bioNormalCdf(Reliab03_tau_1),\n",
    "    3: bioNormalCdf(Reliab03_tau_3)-bioNormalCdf(Reliab03_tau_2),\n",
    "    4: bioNormalCdf(Reliab03_tau_4)-bioNormalCdf(Reliab03_tau_3),\n",
    "    5: bioNormalCdf(Reliab03_tau_5)-bioNormalCdf(Reliab03_tau_4),\n",
    "    6: 1-bioNormalCdf(Reliab03_tau_5),\n",
    "    9999: 1.0\n",
    "}\n",
    "\n",
    "P_Reliab03 = Elem(IndReliab03, reliab_3)\n",
    "\n",
    "IndReliab04 = {\n",
    "    1: bioNormalCdf(Reliab04_tau_1),\n",
    "    2: bioNormalCdf(Reliab04_tau_2)-bioNormalCdf(Reliab04_tau_1),\n",
    "    3: bioNormalCdf(Reliab04_tau_3)-bioNormalCdf(Reliab04_tau_2),\n",
    "    4: bioNormalCdf(Reliab04_tau_4)-bioNormalCdf(Reliab04_tau_3),\n",
    "    5: bioNormalCdf(Reliab04_tau_5)-bioNormalCdf(Reliab04_tau_4),\n",
    "    6: 1-bioNormalCdf(Reliab04_tau_5),\n",
    "    9999: 1.0\n",
    "}\n",
    "\n",
    "P_Reliab04 = Elem(IndReliab04, reliab_4)\n",
    "\n",
    "IndReliab05 = {\n",
    "    1: bioNormalCdf(Reliab05_tau_1),\n",
    "    2: bioNormalCdf(Reliab05_tau_2)-bioNormalCdf(Reliab05_tau_1),\n",
    "    3: bioNormalCdf(Reliab05_tau_3)-bioNormalCdf(Reliab05_tau_2),\n",
    "    4: bioNormalCdf(Reliab05_tau_4)-bioNormalCdf(Reliab05_tau_3),\n",
    "    5: bioNormalCdf(Reliab05_tau_5)-bioNormalCdf(Reliab05_tau_4),\n",
    "    6: 1-bioNormalCdf(Reliab05_tau_5),\n",
    "    9999: 1.0\n",
    "}\n",
    "\n",
    "P_Reliab05 = Elem(IndReliab05, reliab_5)"
   ]
  },
  {
   "cell_type": "code",
   "execution_count": null,
   "metadata": {},
   "outputs": [],
   "source": [
    "# initialize coefficients for binary logit choice model\n",
    "ASC_EV_1 = Beta('ASC_EV_1', 0, None, None, 0)\n",
    "ASC_EV_1_NoHome = Beta('ASC_EV_1_NoHome', 0, None, None, 0)\n",
    "B_PRICE_EV_1 = Beta('B_PRICE_EV_1', 0, None, None, 0)\n",
    "B_PRICE_CONV_1 = Beta('B_PRICE_CONV_1', 0, None, None, 0)\n",
    "B_OPCOST_EV_1 = Beta('B_OPCOST_EV_1', 0, None, None, 0)\n",
    "B_OPCOST_CONV_1 = Beta('B_OPCOST_CONV_1', 0, None, None, 0)\n",
    "B_RANGE_EV_1 = Beta('B_RANGE_EV_1', 0, None, None, 0)\n",
    "B_RANGE_CONV_1 = Beta('B_RANGE_CONV_1', 0, None, None, 0)\n",
    "B_CHARGAVAIL_EV_1_HOME = Beta('B_CHARGAVAIL_EV_1_HOME', 0, None, None, 0)\n",
    "B_CHARGAVAIL_EV_1_NOHOME = Beta('B_CHARGAVAIL_EV_1_NOHOME', 0, None, None, 0)\n",
    "B_CHARGAVAIL_EV_1 = Beta('B_CHARGAVAIL_EV_1', 0, None, None, 0)\n",
    "B_PR_1_NOHOME = Beta('B_PR_1_NOHOME', 0, None, None, 0)\n",
    "B_PR_1 = Beta('B_PR_1', 0, None, None, 0)\n",
    "\n",
    "\n"
   ]
  },
  {
   "cell_type": "code",
   "execution_count": null,
   "metadata": {},
   "outputs": [],
   "source": [
    "# define the utility functions\n",
    "V_EV_1 = (\n",
    "    ASC_EV_1\n",
    "    + ASC_EV_1_NoHome*(1-homecharge)\n",
    "    + B_PRICE_EV_1* (ev_price/budget)\n",
    "    + B_OPCOST_EV_1*ev_opcost\n",
    "    + B_RANGE_EV_1*(ev_range/100)\n",
    "    + B_CHARGAVAIL_EV_1*chargavail_fraction\n",
    "    + B_CHARGAVAIL_EV_1_NOHOME*chargavail_fraction*(1-homecharge)\n",
    "    + B_PR_1*PR\n",
    "    + B_PR_1_NOHOME*PR*(1-homecharge)\n",
    ")\n",
    "\n",
    "V_CONV_1 = (\n",
    "    B_PRICE_CONV_1* (icev_price/budget)\n",
    "    + B_OPCOST_CONV_1*icev_opcost\n",
    "    + B_RANGE_CONV_1*(icev_range/100)\n",
    ")\n"
   ]
  },
  {
   "cell_type": "code",
   "execution_count": null,
   "metadata": {},
   "outputs": [],
   "source": [
    "# link utility and availability\n",
    "\n",
    "V1 = {1: V_EV_1, 2: V_CONV_1}\n",
    "av = {1: ev_av, 2: icev_av}"
   ]
  },
  {
   "cell_type": "code",
   "execution_count": null,
   "metadata": {},
   "outputs": [],
   "source": [
    "# define the probability functions\n",
    "prob1 = models.logit(V1, av, choice)\n",
    "\n",
    "# link the measurement model\n",
    "condlike = prob1 * P_Reliab03 * P_Reliab04 * P_Reliab05 * P_Reliab02\n",
    "\n",
    "# set panel structure\n",
    "condlikeindiv = PanelLikelihoodTrajectory(condlike)\n",
    "loglike = log(MonteCarlo(condlike))\n"
   ]
  },
  {
   "cell_type": "code",
   "execution_count": null,
   "metadata": {},
   "outputs": [],
   "source": [
    "# define the model\n",
    "the_biogeme = bio.BIOGEME(database, loglike,numberOfDraws = 1000)\n",
    "the_biogeme.modelName = 'PR_ICLV_Mixed_MonteCarlo'"
   ]
  },
  {
   "cell_type": "code",
   "execution_count": null,
   "metadata": {},
   "outputs": [],
   "source": [
    "# run model and print results\n",
    "model_results = the_biogeme.estimate()\n",
    "pandasResults = model_results.getEstimatedParameters()\n",
    "print(pandasResults)"
   ]
  }
 ],
 "metadata": {
  "kernelspec": {
   "display_name": "Python 3",
   "language": "python",
   "name": "python3"
  },
  "language_info": {
   "codemirror_mode": {
    "name": "ipython",
    "version": 3
   },
   "file_extension": ".py",
   "mimetype": "text/x-python",
   "name": "python",
   "nbconvert_exporter": "python",
   "pygments_lexer": "ipython3",
   "version": "3.11.9"
  },
  "vscode": {
   "interpreter": {
    "hash": "31f2aee4e71d21fbe5cf8b01ff0e069b9275f58929596ceb00d14d90e3e16cd6"
   }
  }
 },
 "nbformat": 4,
 "nbformat_minor": 2
}
